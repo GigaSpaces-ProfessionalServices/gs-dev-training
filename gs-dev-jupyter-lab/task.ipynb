{
 "cells": [
  {
   "cell_type": "markdown",
   "id": "8d97afc6-8521-4192-a51e-97993b4a6575",
   "metadata": {},
   "source": [
    "%%markdown\n",
    "\n",
    "# GigaSpaces Task Examples\n",
    "This notebook will demonstrate the basics of the GigaSpaces task API.\n",
    "\n"
   ]
  },
  {
   "cell_type": "markdown",
   "id": "cd458719-4ddf-4031-a745-ce15718d591c",
   "metadata": {},
   "source": [
    "%%markdown\n",
    "\n",
    "##### GigaSpaces start up instructions\n",
    "\n",
    "1. In a console window, go to the GigaSpaces install directory/bin (for convenience GS_HOME has already been defined).\n",
    "\n",
    "`cd $GS_HOME/bin`\n",
    "\n",
    "2. Start the service grid with a manager and 4 GSCs (in developer mode)\n",
    "\n",
    "`./gs.sh host run-agent --auto --gsc=4`\n",
    "\n",
    "3. In another console window, deploy a space named demo.\n",
    "\n",
    "`./gs.sh space deploy --partitions=2 --ha demo`\n"
   ]
  },
  {
   "cell_type": "code",
   "execution_count": 1,
   "id": "e2bbedf4-5045-4b93-9472-40c31e063b1f",
   "metadata": {},
   "outputs": [],
   "source": [
    "%%pom\n",
    "repositories:\n",
    "  - id: org.openspaces\n",
    "    url: http://maven-repository.openspaces.org\n",
    "dependencies:\n",
    "  - groupId: org.gigaspaces\n",
    "    artifactId: xap-openspaces\n",
    "    version: 16.4.0\n",
    "\n",
    "  - groupId: com.gigaspaces.training\n",
    "    artifactId: model\n",
    "    version: 1.0\n",
    "        "
   ]
  },
  {
   "cell_type": "code",
   "execution_count": 2,
   "id": "5a0cff02-883e-498b-af09-9c1066ff115e",
   "metadata": {},
   "outputs": [
    {
     "name": "stdout",
     "output_type": "stream",
     "text": [
      "${JUPYTER_DATA_DIR}/kernels/ganymede-2.1.2-java-11-gs-dev-lab-3.3.3/kernel.jar\n",
      "${user.home}/.m2/repository/org/gigaspaces/xap-openspaces/16.4.0/xap-openspaces-16.4.0.jar\n",
      "${user.home}/.m2/repository/org/gigaspaces/xap-datagrid/16.4.0/xap-datagrid-16.4.0.jar\n",
      "${user.home}/.m2/repository/io/opentracing/opentracing-util/0.33.0/opentracing-util-0.33.0.jar\n",
      "${user.home}/.m2/repository/io/opentracing/opentracing-api/0.33.0/opentracing-api-0.33.0.jar\n",
      "${user.home}/.m2/repository/io/opentracing/opentracing-noop/0.33.0/opentracing-noop-0.33.0.jar\n",
      "${user.home}/.m2/repository/com/github/oshi/oshi-core/5.5.0/oshi-core-5.5.0.jar\n",
      "${user.home}/.m2/repository/net/java/dev/jna/jna-platform/5.6.0/jna-platform-5.6.0.jar\n",
      "${user.home}/.m2/repository/org/gigaspaces/xap-common/16.4.0/xap-common-16.4.0.jar\n",
      "${user.home}/.m2/repository/org/gigaspaces/xap-asm/16.4.0/xap-asm-16.4.0.jar\n",
      "${user.home}/.m2/repository/org/gigaspaces/xap-trove/16.4.0/xap-trove-16.4.0.jar\n",
      "${user.home}/.m2/repository/org/xerial/sqlite-jdbc/3.42.0.0/sqlite-jdbc-3.42.0.0.jar\n",
      "${user.home}/.m2/repository/org/jboss/spec/javax/transaction/jboss-transaction-api_1.1_spec/1.0.0.Final/jboss-transaction-api_1.1_spec-1.0.0.Final.jar\n",
      "${user.home}/.m2/repository/javax/annotation/javax.annotation-api/1.3.2/javax.annotation-api-1.3.2.jar\n",
      "${user.home}/.m2/repository/com/sun/xml/bind/jaxb-impl/2.3.8/jaxb-impl-2.3.8.jar\n",
      "${user.home}/.m2/repository/com/sun/activation/jakarta.activation/1.2.2/jakarta.activation-1.2.2.jar\n",
      "${user.home}/.m2/repository/org/springframework/spring-tx/5.3.29/spring-tx-5.3.29.jar\n",
      "${user.home}/.m2/repository/org/springframework/spring-jdbc/5.3.29/spring-jdbc-5.3.29.jar\n",
      "${user.home}/.m2/repository/org/springframework/spring-orm/5.3.29/spring-orm-5.3.29.jar\n",
      "${user.home}/.m2/repository/org/springframework/security/spring-security-core/5.7.5/spring-security-core-5.7.5.jar\n",
      "${user.home}/.m2/repository/org/springframework/security/spring-security-web/5.7.5/spring-security-web-5.7.5.jar\n",
      "${user.home}/.m2/repository/org/springframework/security/spring-security-config/5.7.5/spring-security-config-5.7.5.jar\n",
      "${user.home}/.m2/repository/org/springframework/security/spring-security-crypto/5.7.5/spring-security-crypto-5.7.5.jar\n",
      "${user.home}/.m2/repository/org/jboss/jbossts/jbossjta/4.16.6.Final/jbossjta-4.16.6.Final.jar\n",
      "${user.home}/.m2/repository/org/jboss/spec/javax/servlet/jboss-servlet-api_3.0_spec/1.0.2.Final/jboss-servlet-api_3.0_spec-1.0.2.Final.jar\n",
      "${user.home}/.m2/repository/org/hsqldb/hsqldb/2.7.1/hsqldb-2.7.1-jdk8.jar\n",
      "${user.home}/.m2/repository/org/apache/geronimo/specs/geronimo-j2ee-connector_1.5_spec/1.1/geronimo-j2ee-connector_1.5_spec-1.1.jar\n",
      "${user.home}/.m2/repository/com/atomikos/transactions-jta/3.8.0/transactions-jta-3.8.0.jar\n",
      "${user.home}/.m2/repository/com/atomikos/transactions/3.8.0/transactions-3.8.0.jar\n",
      "${user.home}/.m2/repository/com/atomikos/transactions-api/3.8.0/transactions-api-3.8.0.jar\n",
      "${user.home}/.m2/repository/com/atomikos/atomikos-util/3.8.0/atomikos-util-3.8.0.jar\n",
      "${user.home}/.m2/repository/com/gigaspaces/training/model/1.0/model-1.0.jar\n",
      "${user.home}/.m2/repository/org/slf4j/slf4j-api/1.7.26/slf4j-api-1.7.26.jar\n",
      "${user.home}/.m2/repository/org/mockito/mockito-all/1.9.0/mockito-all-1.9.0.jar\n"
     ]
    }
   ],
   "source": [
    "%%classpath"
   ]
  },
  {
   "cell_type": "code",
   "execution_count": 3,
   "id": "42be83ed-5b1f-4363-bc1f-24dfd7fcfc95",
   "metadata": {},
   "outputs": [
    {
     "name": "stdout",
     "output_type": "stream",
     "text": [
      "#Wed Feb 28 10:50:42 EST 2024\n",
      "PATH=/home/dixson/.local/bin\\:/usr/local/sbin\\:/usr/local/bin\\:/usr/sbin\\:/usr/bin\\:/sbin\\:/bin\\:/usr/games\\:/usr/local/games\\:/snap/bin\\:/home/dixson/work/tools/apache-maven-3.8.3/bin\\:/home/dixson/work/tools/virt/google-cloud-sdk/bin\\:/home/dixson/.local/bin\\:\n",
      "XMODIFIERS=@im\\=ibus\n",
      "GDMSESSION=ubuntu\n",
      "DBUS_SESSION_BUS_ADDRESS=unix\\:path\\=/run/user/1000/bus\n",
      "DEFAULTS_PATH=/usr/share/gconf/ubuntu.default.path\n",
      "SSH_AGENT_PID=1528\n",
      "COLORTERM=truecolor\n",
      "USERNAME=dixson\n",
      "SESSION_MANAGER=local/dixson-pc\\:@/tmp/.ICE-unix/1603,unix/dixson-pc\\:/tmp/.ICE-unix/1603\n",
      "MANAGERPID=1109\n",
      "PWD=/home/dixson/work/project/21\n",
      "GJS_DEBUG_TOPICS=JS ERROR;JS LOG\n",
      "LESSOPEN=| /usr/bin/lesspipe %s\n",
      "GNOME_DESKTOP_SESSION_ID=this-is-deprecated\n",
      "GNOME_TERMINAL_SCREEN=/org/gnome/Terminal/screen/2b768596_f490_49f0_bb6f_a9984415a064\n",
      "GTK_MODULES=gail\\:atk-bridge\n",
      "SHLVL=1\n",
      "TERM=xterm-256color\n",
      "XDG_CONFIG_DIRS=/etc/xdg/xdg-ubuntu\\:/etc/xdg\n",
      "JPY_PARENT_PID=32815\n",
      "JUPYTER_CONFIG_DIR=/home/dixson/.jupyter\n",
      "_=/home/dixson/.local/bin/jupyter\n",
      "XDG_SESSION_CLASS=user\n",
      "DESKTOP_SESSION=ubuntu\n",
      "XDG_MENU_PREFIX=gnome-\n",
      "VTE_VERSION=6003\n",
      "QT_ACCESSIBILITY=1\n",
      "JUPYTER_DATA_DIR=/home/dixson/.local/share/jupyter\n",
      "INVOCATION_ID=1b6b26991a4d4e25b1ace145e6bf0363\n",
      "XAUTHORITY=/run/user/1000/gdm/Xauthority\n",
      "XDG_DATA_DIRS=/usr/share/ubuntu\\:/usr/local/share/\\:/usr/share/\\:/var/lib/snapd/desktop\n",
      "MANDATORY_PATH=/usr/share/gconf/ubuntu.mandatory.path\n",
      "PYDEVD_USE_FRAME_EVAL=NO\n",
      "XDG_CURRENT_DESKTOP=ubuntu\\:GNOME\n",
      "JOURNAL_STREAM=8\\:36250\n",
      "LOGNAME=dixson\n",
      "IM_CONFIG_PHASE=1\n",
      "JUPYTER_RUNTIME_DIR=/home/dixson/.local/share/jupyter/runtime\n",
      "SHELL=/bin/bash\n",
      "OLDPWD=/home/dixson/work/project\n",
      "LS_COLORS=rs\\=0\\:di\\=01;34\\:ln\\=01;36\\:mh\\=00\\:pi\\=40;33\\:so\\=01;35\\:do\\=01;35\\:bd\\=40;33;01\\:cd\\=40;33;01\\:or\\=40;31;01\\:mi\\=00\\:su\\=37;41\\:sg\\=30;43\\:ca\\=30;41\\:tw\\=30;42\\:ow\\=34;42\\:st\\=37;44\\:ex\\=01;32\\:*.tar\\=01;31\\:*.tgz\\=01;31\\:*.arc\\=01;31\\:*.arj\\=01;31\\:*.taz\\=01;31\\:*.lha\\=01;31\\:*.lz4\\=01;31\\:*.lzh\\=01;31\\:*.lzma\\=01;31\\:*.tlz\\=01;31\\:*.txz\\=01;31\\:*.tzo\\=01;31\\:*.t7z\\=01;31\\:*.zip\\=01;31\\:*.z\\=01;31\\:*.dz\\=01;31\\:*.gz\\=01;31\\:*.lrz\\=01;31\\:*.lz\\=01;31\\:*.lzo\\=01;31\\:*.xz\\=01;31\\:*.zst\\=01;31\\:*.tzst\\=01;31\\:*.bz2\\=01;31\\:*.bz\\=01;31\\:*.tbz\\=01;31\\:*.tbz2\\=01;31\\:*.tz\\=01;31\\:*.deb\\=01;31\\:*.rpm\\=01;31\\:*.jar\\=01;31\\:*.war\\=01;31\\:*.ear\\=01;31\\:*.sar\\=01;31\\:*.rar\\=01;31\\:*.alz\\=01;31\\:*.ace\\=01;31\\:*.zoo\\=01;31\\:*.cpio\\=01;31\\:*.7z\\=01;31\\:*.rz\\=01;31\\:*.cab\\=01;31\\:*.wim\\=01;31\\:*.swm\\=01;31\\:*.dwm\\=01;31\\:*.esd\\=01;31\\:*.jpg\\=01;35\\:*.jpeg\\=01;35\\:*.mjpg\\=01;35\\:*.mjpeg\\=01;35\\:*.gif\\=01;35\\:*.bmp\\=01;35\\:*.pbm\\=01;35\\:*.pgm\\=01;35\\:*.ppm\\=01;35\\:*.tga\\=01;35\\:*.xbm\\=01;35\\:*.xpm\\=01;35\\:*.tif\\=01;35\\:*.tiff\\=01;35\\:*.png\\=01;35\\:*.svg\\=01;35\\:*.svgz\\=01;35\\:*.mng\\=01;35\\:*.pcx\\=01;35\\:*.mov\\=01;35\\:*.mpg\\=01;35\\:*.mpeg\\=01;35\\:*.m2v\\=01;35\\:*.mkv\\=01;35\\:*.webm\\=01;35\\:*.ogm\\=01;35\\:*.mp4\\=01;35\\:*.m4v\\=01;35\\:*.mp4v\\=01;35\\:*.vob\\=01;35\\:*.qt\\=01;35\\:*.nuv\\=01;35\\:*.wmv\\=01;35\\:*.asf\\=01;35\\:*.rm\\=01;35\\:*.rmvb\\=01;35\\:*.flc\\=01;35\\:*.avi\\=01;35\\:*.fli\\=01;35\\:*.flv\\=01;35\\:*.gl\\=01;35\\:*.dl\\=01;35\\:*.xcf\\=01;35\\:*.xwd\\=01;35\\:*.yuv\\=01;35\\:*.cgm\\=01;35\\:*.emf\\=01;35\\:*.ogv\\=01;35\\:*.ogx\\=01;35\\:*.aac\\=00;36\\:*.au\\=00;36\\:*.flac\\=00;36\\:*.m4a\\=00;36\\:*.mid\\=00;36\\:*.midi\\=00;36\\:*.mka\\=00;36\\:*.mp3\\=00;36\\:*.mpc\\=00;36\\:*.ogg\\=00;36\\:*.ra\\=00;36\\:*.wav\\=00;36\\:*.oga\\=00;36\\:*.opus\\=00;36\\:*.spx\\=00;36\\:*.xspf\\=00;36\\:\n",
      "XDG_SESSION_DESKTOP=ubuntu\n",
      "LESSCLOSE=/usr/bin/lesspipe %s %s\n",
      "QT_IM_MODULE=ibus\n",
      "GNOME_TERMINAL_SERVICE=\\:1.102\n",
      "JPY_SESSION_NAME=/home/dixson/work/project/21/gs-dev-jupyter-lab/task.ipynb\n",
      "LANG=en_US.UTF-8\n",
      "XDG_SESSION_TYPE=x11\n",
      "DISPLAY=\\:0\n",
      "GPG_AGENT_INFO=/run/user/1000/gnupg/S.gpg-agent\\:0\\:1\n",
      "USER=dixson\n",
      "WINDOWPATH=2\n",
      "GJS_DEBUG_OUTPUT=stderr\n",
      "SSH_AUTH_SOCK=/run/user/1000/keyring/ssh\n",
      "JUPYTER_CONFIG_PATH=/home/dixson/.jupyter\\:/home/dixson/.local/etc/jupyter\\:/usr/etc/jupyter\\:/usr/local/etc/jupyter\\:/etc/jupyter\n",
      "GNOME_SHELL_SESSION_MODE=ubuntu\n",
      "XDG_RUNTIME_DIR=/run/user/1000\n",
      "HOME=/home/dixson\n"
     ]
    }
   ],
   "source": [
    "%%env"
   ]
  },
  {
   "cell_type": "code",
   "execution_count": 4,
   "id": "2af5a3c6-ebf9-4a00-9869-01a677f97c93",
   "metadata": {},
   "outputs": [],
   "source": [
    "%%java\n",
    "\n",
    "import com.gigaspaces.async.AsyncFuture;\n",
    "import com.gigaspaces.async.AsyncFutureListener;\n",
    "import com.gigaspaces.async.AsyncResult;\n",
    "\n",
    "\n",
    "import org.openspaces.core.GigaSpace;\n",
    "import org.openspaces.core.GigaSpaceConfigurer;\n",
    "import org.openspaces.core.space.SpaceProxyConfigurer;\n",
    "\n",
    "import org.openspaces.core.executor.DistributedTask;\n",
    "\n",
    "import java.util.List;\n",
    "\n"
   ]
  },
  {
   "cell_type": "code",
   "execution_count": 5,
   "id": "3a6ab043-fdec-4edf-b852-9cfd3475577f",
   "metadata": {},
   "outputs": [],
   "source": [
    "%%java\n",
    "\n",
    "// define the DistributedTask\n",
    "public class MyDistTask implements DistributedTask<Integer, Long>, java.io.Serializable {\n",
    "    private static final long serialVersionUID = 0L;\n",
    "    \n",
    "    public Integer execute() throws Exception {\n",
    "        return 1;\n",
    "    }\n",
    "\n",
    "    @Override\n",
    "    public Long reduce(List<AsyncResult<Integer>> results) throws Exception {\n",
    "        long count = 0;\n",
    "        for (AsyncResult<Integer> result : results) {\n",
    "            if (result.getException() != null) {\n",
    "                throw result.getException();\n",
    "            }\n",
    "            count += result.getResult();\n",
    "        }\n",
    "        return count;\n",
    "    }\n",
    "}\n"
   ]
  },
  {
   "cell_type": "code",
   "execution_count": 6,
   "id": "6a8790e8-6b18-4880-9491-789af5a12b34",
   "metadata": {},
   "outputs": [],
   "source": [
    "%%java\n",
    "\n",
    "public class MyFutureListener implements AsyncFutureListener<Long> {\n",
    "    @Override\n",
    "    public void onResult (AsyncResult <Long> asyncResult) {\n",
    "        if (asyncResult.getException() != null) {\n",
    "            try {\n",
    "                throw asyncResult.getException();\n",
    "            } catch (Exception e) {\n",
    "                e.printStackTrace();\n",
    "            }\n",
    "        }\n",
    "    }\n",
    "}"
   ]
  },
  {
   "cell_type": "code",
   "execution_count": 7,
   "id": "efad1863-78a6-48e7-8833-9a28d0b3a2cc",
   "metadata": {},
   "outputs": [
    {
     "name": "stdout",
     "output_type": "stream",
     "text": [
      "2024-02-28 10:50:44,493 CONFIG [com.gigaspaces.logger] - Log file: /home/dixson/work/project/21/gs-dev-jupyter-lab/logs/2024-02-28~10.50-gigaspaces-service-127.0.1.1-88638.log\n",
      "Result is: 2\n"
     ]
    }
   ],
   "source": [
    "%%java\n",
    "// an example of instantiating a remote proxy\n",
    "SpaceProxyConfigurer configurer = new SpaceProxyConfigurer(\"demo\");\n",
    "GigaSpace gigaSpace = new GigaSpaceConfigurer(configurer).gigaSpace();\n",
    "\n",
    "AsyncFuture<Long> future = gigaSpace.execute(new MyDistTask());\n",
    "\n",
    "future.setListener(new MyFutureListener());\n",
    "\n",
    "long result = future.get();\n",
    "\n",
    "System.out.println(\"Result is: \" + result);\n"
   ]
  },
  {
   "cell_type": "code",
   "execution_count": null,
   "id": "da4f4c09-ab42-4455-b142-d36af307a113",
   "metadata": {},
   "outputs": [],
   "source": []
  }
 ],
 "metadata": {
  "kernelspec": {
   "display_name": "Ganymede 2.1.2 (Java 11) with gs-dev-lab 3.3.3",
   "language": "java",
   "name": "ganymede-2.1.2-java-11-gs-dev-lab-3.3.3"
  },
  "language_info": {
   "file_extension": ".java",
   "mimetype": "text/x-java",
   "name": "java",
   "version": "11"
  }
 },
 "nbformat": 4,
 "nbformat_minor": 5
}
